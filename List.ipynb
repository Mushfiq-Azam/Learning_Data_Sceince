{
 "cells": [
  {
   "cell_type": "code",
   "execution_count": 1,
   "id": "45de9f70",
   "metadata": {},
   "outputs": [
    {
     "data": {
      "text/plain": [
       "['AI', 1, 'is', 2, 'the', 2.4, 'new', True, 'electricity']"
      ]
     },
     "execution_count": 1,
     "metadata": {},
     "output_type": "execute_result"
    }
   ],
   "source": [
    "#indexing 0 1 2 3\n",
    "x=['AI',1,'is',2,'the',2.4,'new',True,'electricity']\n",
    "x"
   ]
  },
  {
   "cell_type": "code",
   "execution_count": 2,
   "id": "670f06c7",
   "metadata": {},
   "outputs": [
    {
     "data": {
      "text/plain": [
       "('AI', 2, True)"
      ]
     },
     "execution_count": 2,
     "metadata": {},
     "output_type": "execute_result"
    }
   ],
   "source": [
    "x[0], x[3], x[7]"
   ]
  },
  {
   "cell_type": "code",
   "execution_count": 3,
   "id": "69026007",
   "metadata": {},
   "outputs": [
    {
     "data": {
      "text/plain": [
       "(True, 'the')"
      ]
     },
     "execution_count": 3,
     "metadata": {},
     "output_type": "execute_result"
    }
   ],
   "source": [
    "x[-2], x[-5]"
   ]
  },
  {
   "cell_type": "code",
   "execution_count": 5,
   "id": "7165ab7f",
   "metadata": {},
   "outputs": [
    {
     "data": {
      "text/plain": [
       "['AI', 1, 'is', 2, 'the', 2.4, 'new', True, 'Mushfiq']"
      ]
     },
     "execution_count": 5,
     "metadata": {},
     "output_type": "execute_result"
    }
   ],
   "source": [
    "x[-1]='Mushfiq'\n",
    "x"
   ]
  },
  {
   "cell_type": "code",
   "execution_count": 6,
   "id": "d3f11e95",
   "metadata": {},
   "outputs": [
    {
     "data": {
      "text/plain": [
       "['AI', 1, 'is', 2, 'the', 2.4, 'new', True, 'Mushfiq', 'data science']"
      ]
     },
     "execution_count": 6,
     "metadata": {},
     "output_type": "execute_result"
    }
   ],
   "source": [
    "x.append('data science')\n",
    "x"
   ]
  },
  {
   "cell_type": "code",
   "execution_count": 7,
   "id": "b4c2081b",
   "metadata": {},
   "outputs": [
    {
     "data": {
      "text/plain": [
       "['AI',\n",
       " 1,\n",
       " 'is',\n",
       " 2,\n",
       " 'the',\n",
       " 2.4,\n",
       " 'new',\n",
       " True,\n",
       " 'Mushfiq',\n",
       " 'data science',\n",
       " 'ML',\n",
       " 'DL']"
      ]
     },
     "execution_count": 7,
     "metadata": {},
     "output_type": "execute_result"
    }
   ],
   "source": [
    "x.extend(['ML','DL'])\n",
    "x"
   ]
  },
  {
   "cell_type": "code",
   "execution_count": 8,
   "id": "3aeab047",
   "metadata": {},
   "outputs": [
    {
     "data": {
      "text/plain": [
       "['AI',\n",
       " 1,\n",
       " 'is',\n",
       " 2,\n",
       " 'the',\n",
       " 2.4,\n",
       " 'new',\n",
       " True,\n",
       " 'Mushfiq',\n",
       " 'data science',\n",
       " 'ML',\n",
       " 'DL',\n",
       " ['data science', 'ML', 'DL']]"
      ]
     },
     "execution_count": 8,
     "metadata": {},
     "output_type": "execute_result"
    }
   ],
   "source": [
    "x.append(['data science','ML','DL'])\n",
    "x"
   ]
  },
  {
   "cell_type": "code",
   "execution_count": 12,
   "id": "33abff58",
   "metadata": {},
   "outputs": [
    {
     "data": {
      "text/plain": [
       "'DL'"
      ]
     },
     "execution_count": 12,
     "metadata": {},
     "output_type": "execute_result"
    }
   ],
   "source": [
    "x[-1][-1]"
   ]
  },
  {
   "cell_type": "code",
   "execution_count": null,
   "id": "f62a374f",
   "metadata": {},
   "outputs": [
    {
     "data": {
      "text/plain": [
       "(['data science', 'ML', 'DL'],\n",
       " ['AI',\n",
       "  1,\n",
       "  'is',\n",
       "  2,\n",
       "  'the',\n",
       "  2.4,\n",
       "  'new',\n",
       "  True,\n",
       "  'Mushfiq',\n",
       "  'data science',\n",
       "  'ML',\n",
       "  'DL'])"
      ]
     },
     "execution_count": 14,
     "metadata": {},
     "output_type": "execute_result"
    }
   ],
   "source": [
    "rem=x.pop()\n",
    "rem ,x"
   ]
  },
  {
   "cell_type": "code",
   "execution_count": 15,
   "id": "015d33e3",
   "metadata": {},
   "outputs": [
    {
     "data": {
      "text/plain": [
       "['AI',\n",
       " 1,\n",
       " 'is',\n",
       " 2,\n",
       " 'the',\n",
       " 2.4,\n",
       " 'new',\n",
       " True,\n",
       " 'Mushfiq',\n",
       " 'data science',\n",
       " 'ML',\n",
       " 'DL']"
      ]
     },
     "execution_count": 15,
     "metadata": {},
     "output_type": "execute_result"
    }
   ],
   "source": [
    "x"
   ]
  }
 ],
 "metadata": {
  "kernelspec": {
   "display_name": "Python 3",
   "language": "python",
   "name": "python3"
  },
  "language_info": {
   "codemirror_mode": {
    "name": "ipython",
    "version": 3
   },
   "file_extension": ".py",
   "mimetype": "text/x-python",
   "name": "python",
   "nbconvert_exporter": "python",
   "pygments_lexer": "ipython3",
   "version": "3.13.3"
  }
 },
 "nbformat": 4,
 "nbformat_minor": 5
}
