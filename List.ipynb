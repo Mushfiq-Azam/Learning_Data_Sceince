{
 "cells": [
  {
   "cell_type": "code",
   "execution_count": 1,
   "id": "45de9f70",
   "metadata": {},
   "outputs": [
    {
     "data": {
      "text/plain": [
       "['AI', 1, 'is', 2, 'the', 2.4, 'new', True, 'electricity']"
      ]
     },
     "execution_count": 1,
     "metadata": {},
     "output_type": "execute_result"
    }
   ],
   "source": [
    "#indexing 0 1 2 3\n",
    "x=['AI',1,'is',2,'the',2.4,'new',True,'electricity']\n",
    "x"
   ]
  },
  {
   "cell_type": "code",
   "execution_count": 2,
   "id": "670f06c7",
   "metadata": {},
   "outputs": [
    {
     "data": {
      "text/plain": [
       "('AI', 2, True)"
      ]
     },
     "execution_count": 2,
     "metadata": {},
     "output_type": "execute_result"
    }
   ],
   "source": [
    "x[0], x[3], x[7]"
   ]
  },
  {
   "cell_type": "code",
   "execution_count": 3,
   "id": "69026007",
   "metadata": {},
   "outputs": [
    {
     "data": {
      "text/plain": [
       "(True, 'the')"
      ]
     },
     "execution_count": 3,
     "metadata": {},
     "output_type": "execute_result"
    }
   ],
   "source": [
    "x[-2], x[-5]"
   ]
  },
  {
   "cell_type": "code",
   "execution_count": 5,
   "id": "7165ab7f",
   "metadata": {},
   "outputs": [
    {
     "data": {
      "text/plain": [
       "['AI', 1, 'is', 2, 'the', 2.4, 'new', True, 'Mushfiq']"
      ]
     },
     "execution_count": 5,
     "metadata": {},
     "output_type": "execute_result"
    }
   ],
   "source": [
    "x[-1]='Mushfiq'\n",
    "x"
   ]
  },
  {
   "cell_type": "code",
   "execution_count": 6,
   "id": "d3f11e95",
   "metadata": {},
   "outputs": [
    {
     "data": {
      "text/plain": [
       "['AI', 1, 'is', 2, 'the', 2.4, 'new', True, 'Mushfiq', 'data science']"
      ]
     },
     "execution_count": 6,
     "metadata": {},
     "output_type": "execute_result"
    }
   ],
   "source": [
    "x.append('data science')\n",
    "x"
   ]
  },
  {
   "cell_type": "code",
   "execution_count": 7,
   "id": "b4c2081b",
   "metadata": {},
   "outputs": [
    {
     "data": {
      "text/plain": [
       "['AI',\n",
       " 1,\n",
       " 'is',\n",
       " 2,\n",
       " 'the',\n",
       " 2.4,\n",
       " 'new',\n",
       " True,\n",
       " 'Mushfiq',\n",
       " 'data science',\n",
       " 'ML',\n",
       " 'DL']"
      ]
     },
     "execution_count": 7,
     "metadata": {},
     "output_type": "execute_result"
    }
   ],
   "source": [
    "x.extend(['ML','DL'])\n",
    "x"
   ]
  },
  {
   "cell_type": "code",
   "execution_count": 8,
   "id": "3aeab047",
   "metadata": {},
   "outputs": [
    {
     "data": {
      "text/plain": [
       "['AI',\n",
       " 1,\n",
       " 'is',\n",
       " 2,\n",
       " 'the',\n",
       " 2.4,\n",
       " 'new',\n",
       " True,\n",
       " 'Mushfiq',\n",
       " 'data science',\n",
       " 'ML',\n",
       " 'DL',\n",
       " ['data science', 'ML', 'DL']]"
      ]
     },
     "execution_count": 8,
     "metadata": {},
     "output_type": "execute_result"
    }
   ],
   "source": [
    "x.append(['data science','ML','DL'])\n",
    "x"
   ]
  },
  {
   "cell_type": "code",
   "execution_count": 12,
   "id": "33abff58",
   "metadata": {},
   "outputs": [
    {
     "data": {
      "text/plain": [
       "'DL'"
      ]
     },
     "execution_count": 12,
     "metadata": {},
     "output_type": "execute_result"
    }
   ],
   "source": [
    "x[-1][-1]"
   ]
  },
  {
   "cell_type": "code",
   "execution_count": null,
   "id": "f62a374f",
   "metadata": {},
   "outputs": [
    {
     "data": {
      "text/plain": [
       "(['data science', 'ML', 'DL'],\n",
       " ['AI',\n",
       "  1,\n",
       "  'is',\n",
       "  2,\n",
       "  'the',\n",
       "  2.4,\n",
       "  'new',\n",
       "  True,\n",
       "  'Mushfiq',\n",
       "  'data science',\n",
       "  'ML',\n",
       "  'DL'])"
      ]
     },
     "execution_count": 14,
     "metadata": {},
     "output_type": "execute_result"
    }
   ],
   "source": [
    "rem=x.pop()\n",
    "rem ,x"
   ]
  },
  {
   "cell_type": "code",
   "execution_count": 15,
   "id": "015d33e3",
   "metadata": {},
   "outputs": [
    {
     "data": {
      "text/plain": [
       "['AI',\n",
       " 1,\n",
       " 'is',\n",
       " 2,\n",
       " 'the',\n",
       " 2.4,\n",
       " 'new',\n",
       " True,\n",
       " 'Mushfiq',\n",
       " 'data science',\n",
       " 'ML',\n",
       " 'DL']"
      ]
     },
     "execution_count": 15,
     "metadata": {},
     "output_type": "execute_result"
    }
   ],
   "source": [
    "x"
   ]
  },
  {
   "cell_type": "code",
   "execution_count": 16,
   "id": "a567be34",
   "metadata": {},
   "outputs": [
    {
     "data": {
      "text/plain": [
       "['AI', 1, 'is', 2, 'the', 2.4, 'new', True, 'Mushfiq', 'data science', 'ML']"
      ]
     },
     "execution_count": 16,
     "metadata": {},
     "output_type": "execute_result"
    }
   ],
   "source": [
    "x.remove('DL')\n",
    "x"
   ]
  },
  {
   "cell_type": "code",
   "execution_count": 17,
   "id": "d3669c8b",
   "metadata": {},
   "outputs": [
    {
     "data": {
      "text/plain": [
       "['AI', 1, 2, 'the', 2.4, 'new', True, 'Mushfiq', 'data science', 'ML']"
      ]
     },
     "execution_count": 17,
     "metadata": {},
     "output_type": "execute_result"
    }
   ],
   "source": [
    "del x[2]\n",
    "x"
   ]
  },
  {
   "cell_type": "code",
   "execution_count": 18,
   "id": "20eb3eb1",
   "metadata": {},
   "outputs": [
    {
     "data": {
      "text/plain": [
       "[2, 'the', 2.4]"
      ]
     },
     "execution_count": 18,
     "metadata": {},
     "output_type": "execute_result"
    }
   ],
   "source": [
    "#Slicing\n",
    "x[2:5]"
   ]
  },
  {
   "cell_type": "code",
   "execution_count": 19,
   "id": "9ec1fef7",
   "metadata": {},
   "outputs": [
    {
     "data": {
      "text/plain": [
       "['the', 2.4, 'new', True, 'Mushfiq', 'data science', 'ML']"
      ]
     },
     "execution_count": 19,
     "metadata": {},
     "output_type": "execute_result"
    }
   ],
   "source": [
    "#get a slice from index 3\n",
    "x[3:]"
   ]
  },
  {
   "cell_type": "code",
   "execution_count": 20,
   "id": "b420b344",
   "metadata": {},
   "outputs": [
    {
     "data": {
      "text/plain": [
       "['AI', 1, 2, 'the']"
      ]
     },
     "execution_count": 20,
     "metadata": {},
     "output_type": "execute_result"
    }
   ],
   "source": [
    "#get a slice from start to index 4\n",
    "x[:4]"
   ]
  },
  {
   "cell_type": "code",
   "execution_count": 21,
   "id": "b0751b0b",
   "metadata": {},
   "outputs": [
    {
     "data": {
      "text/plain": [
       "['AI', 1, 2, 'the', 2.4, 'new', True, 'Mushfiq', 'data science', 'ML']"
      ]
     },
     "execution_count": 21,
     "metadata": {},
     "output_type": "execute_result"
    }
   ],
   "source": [
    "#get a slice of the entire list\n",
    "x[:]"
   ]
  },
  {
   "cell_type": "code",
   "execution_count": 22,
   "id": "f305dd56",
   "metadata": {},
   "outputs": [
    {
     "data": {
      "text/plain": [
       "10"
      ]
     },
     "execution_count": 22,
     "metadata": {},
     "output_type": "execute_result"
    }
   ],
   "source": [
    "#prints the length of the list\n",
    "len(x)"
   ]
  }
 ],
 "metadata": {
  "kernelspec": {
   "display_name": "Python 3",
   "language": "python",
   "name": "python3"
  },
  "language_info": {
   "codemirror_mode": {
    "name": "ipython",
    "version": 3
   },
   "file_extension": ".py",
   "mimetype": "text/x-python",
   "name": "python",
   "nbconvert_exporter": "python",
   "pygments_lexer": "ipython3",
   "version": "3.13.3"
  }
 },
 "nbformat": 4,
 "nbformat_minor": 5
}
