{
 "cells": [
  {
   "cell_type": "code",
   "execution_count": 2,
   "id": "c900a25d",
   "metadata": {},
   "outputs": [
    {
     "data": {
      "text/plain": [
       "['AI', '4.0', 'is', 'the', 'future', 'of', 'DL', 'and', 'ML']"
      ]
     },
     "execution_count": 2,
     "metadata": {},
     "output_type": "execute_result"
    }
   ],
   "source": [
    "y=['AI','4.0','is', 'the', 'future', 'of', 'DL', 'and', 'ML']\n",
    "y"
   ]
  },
  {
   "cell_type": "code",
   "execution_count": 3,
   "id": "114c087f",
   "metadata": {},
   "outputs": [
    {
     "name": "stdout",
     "output_type": "stream",
     "text": [
      "AI\n",
      "4.0\n",
      "is\n",
      "the\n",
      "future\n",
      "of\n",
      "DL\n",
      "and\n",
      "ML\n"
     ]
    }
   ],
   "source": [
    "for element in y:\n",
    "    print(element)"
   ]
  },
  {
   "cell_type": "code",
   "execution_count": 7,
   "id": "ee5c547f",
   "metadata": {},
   "outputs": [
    {
     "data": {
      "text/plain": [
       "[(0, 'AI'),\n",
       " (1, '4.0'),\n",
       " (2, 'is'),\n",
       " (3, 'the'),\n",
       " (4, 'future'),\n",
       " (5, 'of'),\n",
       " (6, 'DL'),\n",
       " (7, 'and'),\n",
       " (8, 'ML')]"
      ]
     },
     "execution_count": 7,
     "metadata": {},
     "output_type": "execute_result"
    }
   ],
   "source": [
    "list(enumerate(y))"
   ]
  },
  {
   "cell_type": "code",
   "execution_count": 8,
   "id": "4d921d48",
   "metadata": {},
   "outputs": [
    {
     "data": {
      "text/plain": [
       "['It', 'is', 'all', 'about', 'AI', 'and', 'ML']"
      ]
     },
     "execution_count": 8,
     "metadata": {},
     "output_type": "execute_result"
    }
   ],
   "source": [
    "stx=\"It is all about AI and ML\"\n",
    "z=stx.split()\n",
    "z"
   ]
  },
  {
   "cell_type": "code",
   "execution_count": 9,
   "id": "f63447cb",
   "metadata": {},
   "outputs": [
    {
     "name": "stdout",
     "output_type": "stream",
     "text": [
      "AI -> It\n",
      "4.0 -> is\n",
      "is -> all\n",
      "the -> about\n",
      "future -> AI\n",
      "of -> and\n",
      "DL -> ML\n"
     ]
    }
   ],
   "source": [
    "for yv,zv in zip(y,z):\n",
    "    print(yv, \"->\", zv)"
   ]
  },
  {
   "cell_type": "code",
   "execution_count": 16,
   "id": "db7c94d7",
   "metadata": {},
   "outputs": [
    {
     "name": "stderr",
     "output_type": "stream",
     "text": [
      "\n",
      "\n",
      "\u001b[A\u001b[A\n",
      "\n",
      "\u001b[A\u001b[A\n",
      "\n",
      "\u001b[A\u001b[A\n",
      "\n",
      "\u001b[A\u001b[A\n",
      "\n",
      "\u001b[A\u001b[A\n",
      "\n",
      "\u001b[A\u001b[A\n",
      "\n",
      "\u001b[A\u001b[A\n",
      "\n",
      "\u001b[A\u001b[A\n",
      "\n",
      "\u001b[A\u001b[A\n",
      "\n",
      "100%|██████████| 9/9 [00:04<00:00,  1.99it/s]\n"
     ]
    }
   ],
   "source": [
    "\n",
    "\n",
    "import time\n",
    "from tqdm import tqdm\n",
    "concat=\"\" \n",
    "for yv in tqdm(y):\n",
    "   concat += yv + \" \"\n",
    "   time.sleep(0.5)"
   ]
  }
 ],
 "metadata": {
  "kernelspec": {
   "display_name": "Python 3",
   "language": "python",
   "name": "python3"
  },
  "language_info": {
   "codemirror_mode": {
    "name": "ipython",
    "version": 3
   },
   "file_extension": ".py",
   "mimetype": "text/x-python",
   "name": "python",
   "nbconvert_exporter": "python",
   "pygments_lexer": "ipython3",
   "version": "3.13.3"
  }
 },
 "nbformat": 4,
 "nbformat_minor": 5
}
